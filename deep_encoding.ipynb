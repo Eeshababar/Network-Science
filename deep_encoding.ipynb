{
 "cells": [
  {
   "cell_type": "code",
   "execution_count": 37,
   "id": "b8dab34a",
   "metadata": {},
   "outputs": [],
   "source": [
    "import torch\n",
    "from torch_geometric.data import Data\n",
    "from torch_geometric.utils import to_networkx\n",
    "import torch_geometric.transforms as T\n",
    "import torch.nn as nn\n",
    "import matplotlib.pyplot as plt\n",
    "import random\n",
    "import numpy as np\n",
    "from collections import Counter\n",
    "\n",
    "# import dataset\n",
    "from torch_geometric.datasets import GitHub\n",
    "\n",
    "dataset = GitHub(root='/tmp/GitHub')\n",
    "graph = dataset[0]\n",
    "\n",
    "# graph.x  # Node features, already in 1x128 for each node\n",
    "# graph.edge_index  # edge_index shape: 2xNe\n",
    "# graph.y  #  Labels"
   ]
  },
  {
   "cell_type": "code",
   "execution_count": 60,
   "id": "eef7f4d3",
   "metadata": {},
   "outputs": [
    {
     "name": "stdout",
     "output_type": "stream",
     "text": [
      "train: 26390,  val: 7540,  test: 3770\n"
     ]
    }
   ],
   "source": [
    "# split the data\n",
    "\n",
    "split = T.RandomNodeSplit(num_val=0.2, num_test=0.1)\n",
    "graph = split(graph)  # resetting data split\n",
    "print(\n",
    "    f\"train: {int(graph.train_mask.sum())}, \",\n",
    "    f\"val: {int(graph.val_mask.sum())}, \",\n",
    "    f\"test: {int(graph.test_mask.sum())}\",\n",
    ")"
   ]
  },
  {
   "cell_type": "code",
   "execution_count": 59,
   "id": "e9937617",
   "metadata": {},
   "outputs": [],
   "source": [
    "import random\n",
    "\n",
    "def sample_data(graph, num_val=0.2, num_test=0.1):\n",
    "    N = graph.x.shape[0]\n",
    "    N_0 = (graph.y == 0).sum()\n",
    "    N_1 = N - N_0\n",
    "    \n",
    "    num_train = 1-num_val-num_test\n",
    "    N_train = int(N*num_train)\n",
    "    if N_train//2 < N_0 or N_train//2 < N_1:\n",
    "        print('Please set num_val greater')\n",
    "        return graph\n",
    "    \n",
    "    Idx = torch.tensor(range(N))\n",
    "    Idx_0 = Idx[graph.y==0]\n",
    "    Idx_1 = Idx[graph.y==1]\n",
    "    \n",
    "    a = random.sample(Idx_0, N_train//2)\n",
    "    b = random.sample(Idx_1, N_train//2)\n",
    "    \n",
    "    graph.train_mask = [False]*N\n",
    "    graph.train_mask[a] = True\n",
    "    graph.train_mask[b] = True\n"
   ]
  },
  {
   "cell_type": "code",
   "execution_count": 3,
   "id": "1d38ec14",
   "metadata": {},
   "outputs": [],
   "source": [
    "# functions to train and eval a model\n",
    "\n",
    "def train_node_classifier(model, graph, optimizer, criterion, n_epochs=100):\n",
    "    model.history_acc_val = []\n",
    "    model.history_loss_val = []\n",
    "    model.history_acc_train = []\n",
    "    model.history_loss_train = []\n",
    "    \n",
    "    for epoch in range(1, n_epochs + 1):\n",
    "        model.train()\n",
    "        optimizer.zero_grad()\n",
    "        out = model(graph)\n",
    "        loss_train = criterion(out[graph.train_mask], graph.y[graph.train_mask])\n",
    "        loss_train.backward()\n",
    "        optimizer.step()\n",
    "        pred = out.argmax(dim=1)\n",
    "        acc_val = eval_node_classifier(model, graph, graph.val_mask)\n",
    "        acc_train = eval_node_classifier(model, graph, graph.train_mask)\n",
    "        loss_val = criterion(out[graph.val_mask], graph.y[graph.val_mask])\n",
    "        \n",
    "        model.history_acc_val.append(acc_val)\n",
    "        model.history_loss_val.append(loss_val.item())\n",
    "        model.history_acc_train.append(acc_train)\n",
    "        model.history_loss_train.append(loss_train.item())\n",
    "        if epoch % 10 == 0:\n",
    "            print(f'Epoch: {epoch:03d}, Train Loss: {loss_train:.3f}, Val Acc: {acc_val:.3f}')\n",
    "    return model\n",
    "\n",
    "def eval_node_classifier(model, graph, mask):\n",
    "\n",
    "    model.eval()\n",
    "    pred = model(graph).argmax(dim=1)\n",
    "    correct = (pred[mask] == graph.y[mask]).sum()\n",
    "    acc = int(correct) / int(mask.sum())\n",
    "    return acc"
   ]
  },
  {
   "cell_type": "code",
   "execution_count": 71,
   "id": "58e06abc",
   "metadata": {},
   "outputs": [],
   "source": [
    "# Model 1: Graph Convolutional Neural Network\n",
    "\n",
    "from torch_geometric.nn import GCNConv\n",
    "import torch.nn.functional as F\n",
    "\n",
    "class GCN(torch.nn.Module):\n",
    "    def __init__(self):\n",
    "        super().__init__()\n",
    "        \n",
    "        self.conv1 = GCNConv(dataset.num_node_features, 32) # hidden layer\n",
    "        self.conv2 = GCNConv(32, 2)\n",
    "\n",
    "    def forward(self, data):\n",
    "        x, edge_index = data.x, data.edge_index\n",
    "\n",
    "        x = self.conv1(x, edge_index)\n",
    "        x = F.relu(x)\n",
    "        x = self.conv2(x, edge_index)\n",
    "        output = F.softmax(x,dim=1)\n",
    "\n",
    "        return output"
   ]
  },
  {
   "cell_type": "code",
   "execution_count": 72,
   "id": "d91c3628",
   "metadata": {},
   "outputs": [],
   "source": [
    "# Model 2: MLP as baseline\n",
    "\n",
    "class MLP(nn.Module):\n",
    "    def __init__(self):\n",
    "        super().__init__()\n",
    "        self.layers = nn.Sequential(\n",
    "        nn.Linear(dataset.num_node_features, 64),\n",
    "        nn.ReLU(),\n",
    "        nn.Linear(64, 32), \n",
    "        nn.ReLU(),\n",
    "        nn.Linear(32, 16),\n",
    "        nn.ReLU(),\n",
    "        nn.Linear(16, 2),\n",
    "        )\n",
    "\n",
    "    def forward(self, data):\n",
    "        x = data.x  # only using node features (x)\n",
    "        x = self.layers(x)\n",
    "        output = F.softmax(x,dim=1)\n",
    "        return output"
   ]
  },
  {
   "cell_type": "code",
   "execution_count": 76,
   "id": "02602484",
   "metadata": {},
   "outputs": [
    {
     "name": "stdout",
     "output_type": "stream",
     "text": [
      "---GNN start---\n",
      "Epoch: 010, Train Loss: 0.428, Val Acc: 0.828\n",
      "Epoch: 020, Train Loss: 0.395, Val Acc: 0.828\n",
      "Epoch: 030, Train Loss: 0.388, Val Acc: 0.840\n",
      "Epoch: 040, Train Loss: 0.386, Val Acc: 0.845\n",
      "Epoch: 050, Train Loss: 0.386, Val Acc: 0.847\n",
      "Epoch: 060, Train Loss: 0.385, Val Acc: 0.846\n",
      "Epoch: 070, Train Loss: 0.385, Val Acc: 0.845\n",
      "Epoch: 080, Train Loss: 0.385, Val Acc: 0.846\n",
      "Epoch: 090, Train Loss: 0.384, Val Acc: 0.846\n",
      "Epoch: 100, Train Loss: 0.384, Val Acc: 0.846\n",
      "---GNN end---\n",
      "---MLP start---\n",
      "Epoch: 010, Train Loss: 0.417, Val Acc: 0.742\n",
      "Epoch: 020, Train Loss: 0.417, Val Acc: 0.742\n",
      "Epoch: 030, Train Loss: 0.417, Val Acc: 0.742\n",
      "Epoch: 040, Train Loss: 0.390, Val Acc: 0.829\n",
      "Epoch: 050, Train Loss: 0.384, Val Acc: 0.832\n",
      "Epoch: 060, Train Loss: 0.383, Val Acc: 0.841\n",
      "Epoch: 070, Train Loss: 0.381, Val Acc: 0.836\n",
      "Epoch: 080, Train Loss: 0.379, Val Acc: 0.838\n",
      "Epoch: 090, Train Loss: 0.386, Val Acc: 0.827\n",
      "Epoch: 100, Train Loss: 0.382, Val Acc: 0.807\n",
      "---MLP end---\n"
     ]
    }
   ],
   "source": [
    "# start training\n",
    "\n",
    "# calculating the weights of 0 and 1 in the training set\n",
    "# num_0_1 = graph.train_mask.sum()\n",
    "# num_1 = graph.y[graph.train_mask].sum()\n",
    "# r_1 = num_1/num_0_1\n",
    "# r_0 = 1-r_1\n",
    "\n",
    "weights = torch.tensor([0.5,0.5])\n",
    "\n",
    "print('---GNN start---')\n",
    "gcn = GCN()\n",
    "optimizer_gcn = torch.optim.Adam(gcn.parameters(), lr=0.01, weight_decay=5e-4)\n",
    "criterion = nn.CrossEntropyLoss(weight=weights)\n",
    "gcn = train_node_classifier(gcn, graph, optimizer_gcn, criterion, n_epochs=100)\n",
    "print('---GNN end---')\n",
    "\n",
    "print('---MLP start---')\n",
    "mlp = MLP()\n",
    "optimizer_mlp = torch.optim.Adam(mlp.parameters(), lr=0.1, weight_decay=5e-4)\n",
    "criterion = nn.CrossEntropyLoss(weight=weights)\n",
    "mlp = train_node_classifier(mlp, graph, optimizer_mlp, criterion, n_epochs=100)\n",
    "print('---MLP end---')"
   ]
  },
  {
   "cell_type": "code",
   "execution_count": 74,
   "id": "d19ed2ec",
   "metadata": {},
   "outputs": [
    {
     "data": {
      "image/png": "[encoded data removed]",
      "text/plain": [
       "<Figure size 432x288 with 2 Axes>"
      ]
     },
     "metadata": {
      "needs_background": "light"
     },
     "output_type": "display_data"
    },
    {
     "data": {
      "image/png": "[encoded data removed]",
      "text/plain": [
       "<Figure size 432x288 with 2 Axes>"
      ]
     },
     "metadata": {
      "needs_background": "light"
     },
     "output_type": "display_data"
    }
   ],
   "source": [
    "# show training results\n",
    "\n",
    "from matplotlib import pyplot as plt\n",
    "\n",
    "fig, ax = plt.subplots(2, sharex='col', sharey='row')\n",
    "ax[0].plot(gcn.history_acc_train)\n",
    "ax[0].plot(gcn.history_acc_val)\n",
    "\n",
    "\n",
    "ax[1].plot(gcn.history_loss_train)\n",
    "ax[1].plot(gcn.history_loss_val)\n",
    "plt.xlabel('epoch')\n",
    "ax[0].legend(['GNN_train_acc', 'GNN_val_acc'], loc='center right')\n",
    "ax[1].legend(['GNN_train_loss', 'GNN_val_loss'], loc='center right')\n",
    "plt.show()\n",
    "\n",
    "fig, ax = plt.subplots(2, sharex='col', sharey='row')\n",
    "ax[0].plot(mlp.history_acc_train)\n",
    "ax[0].plot(mlp.history_acc_val)\n",
    "\n",
    "\n",
    "ax[1].plot(mlp.history_loss_train)\n",
    "ax[1].plot(mlp.history_loss_val)\n",
    "plt.xlabel('epoch')\n",
    "ax[0].legend(['MLP_train_acc', 'MLP_val_acc'], loc='center right')\n",
    "ax[1].legend(['MLP_train_loss', 'MLP_val_loss'], loc='center right')\n",
    "plt.show()\n"
   ]
  },
  {
   "cell_type": "code",
   "execution_count": null,
   "id": "6488a6b9",
   "metadata": {},
   "outputs": [],
   "source": []
  }
 ],
 "metadata": {
  "kernelspec": {
   "display_name": "Python 3",
   "language": "python",
   "name": "python3"
  },
  "language_info": {
   "codemirror_mode": {
    "name": "ipython",
    "version": 3
   },
   "file_extension": ".py",
   "mimetype": "text/x-python",
   "name": "python",
   "nbconvert_exporter": "python",
   "pygments_lexer": "ipython3",
   "version": "3.9.6"
  }
 },
 "nbformat": 4,
 "nbformat_minor": 5
}
