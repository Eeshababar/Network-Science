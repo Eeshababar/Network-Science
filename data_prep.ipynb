{
 "cells": [
  {
   "cell_type": "code",
   "execution_count": 1,
   "id": "263623e3",
   "metadata": {},
   "outputs": [],
   "source": [
    "# define two constants for our purpose\n",
    "FEATURE_DIM = 8 # this is the dimension of the encoded feature of each node using Word2Vec algorithm\n",
    "EMBEDDING_DIM = 2 # this is the dimension of the embedding of each node of the graph\n",
    "\n",
    "# The following code reads musae_git_edges.csv and create the corresponding adjacency matrix\n",
    "\n",
    "import csv\n",
    "import numpy as np\n",
    "import torch\n",
    "\n",
    "# read csv file into a list of tuples\n",
    "with open('musae_git_edges.csv', 'r') as f:\n",
    "    reader = csv.reader(f)\n",
    "    next(reader)  # skip first row\n",
    "    data = [(int(row[0]), int(row[1])) for row in reader]\n",
    "    \n",
    "# # for some applications it is convenient to have edge_index as a matrix\n",
    "# # each column is 2x1 denoting the two nodes forming the edge\n",
    "\n",
    "# edge_index = torch.tensor(data).T\n",
    "# edge_inv = edge_index[[1,0]]\n",
    "\n",
    "# edge_index = torch.cat((edge_index, edge_inv),dim=1)\n",
    "\n",
    "\n",
    "\n",
    "# construct adjacency matrix\n",
    "n_nodes = max(max(row) for row in data) + 1\n",
    "adjacency_matrix = np.zeros((n_nodes, n_nodes))\n",
    "for u, v in data:\n",
    "    adjacency_matrix[u, v] = 1\n",
    "    adjacency_matrix[v, u] = 1\n",
    "\n",
    "# remove self-loops (optional)\n",
    "np.fill_diagonal(adjacency_matrix, 0)\n",
    "\n"
   ]
  },
  {
   "cell_type": "code",
   "execution_count": 2,
   "id": "b22c94fd",
   "metadata": {},
   "outputs": [],
   "source": [
    "# The following code reads musae_git_features.json and create a list of original features\n",
    "\n",
    "import json\n",
    "import numpy as np\n",
    "\n",
    "# Load JSON data from file\n",
    "with open('musae_git_features.json', 'r') as f:\n",
    "    features_dict = json.load(f)\n",
    "\n",
    "len_data = len(features_dict)\n",
    "\n",
    "# Convert dict to list\n",
    "features_ori = [[] for _ in range(len_data)]\n",
    "for i in range(len_data):\n",
    "    features_ori[i] = features_dict[str(i)]\n"
   ]
  },
  {
   "cell_type": "code",
   "execution_count": 3,
   "id": "2bb0d753",
   "metadata": {},
   "outputs": [],
   "source": [
    "# The following code reads the true label from musae_git_target.csv\n",
    "with open('musae_git_target.csv', 'r') as f:\n",
    "    reader = csv.reader(f)\n",
    "    next(reader)  # skip first row\n",
    "    true_label = [int(row[2]) for row in reader]"
   ]
  },
  {
   "cell_type": "code",
   "execution_count": 4,
   "id": "5c3ad68c",
   "metadata": {},
   "outputs": [],
   "source": [
    "# The following code uses Word2Vec to convert the original features (with each feature being a set of intergers) \n",
    "# to the encoded features with each feature being a vector of FEATURE_DIM dimension\n",
    "\n",
    "from gensim.models import Word2Vec\n",
    "import numpy as np\n",
    "\n",
    "# train a Word2Vec model on the features\n",
    "model = Word2Vec(features_ori, vector_size=FEATURE_DIM, window=5, min_count=1, workers=4)\n",
    "\n",
    "# create the FEATURE_DEMENSION x len_data matrix\n",
    "features = np.zeros((FEATURE_DIM, len_data))\n",
    "for i in range(len_data):\n",
    "    vector = np.mean(model.wv[features_ori[i]], axis=0)\n",
    "    features[:, i] = vector\n",
    "\n",
    "# transpose if you want each row to be the feature for each node\n",
    "features = features.T\n"
   ]
  }
 ],
 "metadata": {
  "kernelspec": {
   "display_name": "Python 3",
   "language": "python",
   "name": "python3"
  },
  "language_info": {
   "codemirror_mode": {
    "name": "ipython",
    "version": 3
   },
   "file_extension": ".py",
   "mimetype": "text/x-python",
   "name": "python",
   "nbconvert_exporter": "python",
   "pygments_lexer": "ipython3",
   "version": "3.9.6"
  }
 },
 "nbformat": 4,
 "nbformat_minor": 5
}
